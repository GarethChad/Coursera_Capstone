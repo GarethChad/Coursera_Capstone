{
    "cells": [
        {
            "cell_type": "markdown",
            "metadata": {
                "collapsed": true
            },
            "source": "# Objective\nThe objective of this notebook is to explore and cluster the neighbourhoods of Toronto, Canada, in terms of the different venues local to each neighbourhood.  \nThis will be done by determining which venues are applicable to each neighbourhood, using Foursquare data.  Clustering will then be performed using the K Means algorithm."
        },
        {
            "cell_type": "markdown",
            "metadata": {},
            "source": "## Set Up\nImport libraries for this notebook."
        },
        {
            "cell_type": "code",
            "execution_count": 1,
            "metadata": {},
            "outputs": [
                {
                    "name": "stdout",
                    "output_type": "stream",
                    "text": "Solving environment: done\n\n# All requested packages already installed.\n\nLibraries imported.\n"
                }
            ],
            "source": "import numpy as np\nimport pandas as pd\nimport json\nfrom pandas.io.json import json_normalize\nimport requests\nfrom sklearn.cluster import KMeans\nfrom bs4 import BeautifulSoup\nfrom geopy.geocoders import Nominatim\n\nimport matplotlib.cm as cm\nimport matplotlib.colors as colors\n\n# install package for plotting Folium maps\n!conda install -c conda-forge folium=0.5.0 --yes\nimport folium\n\nprint('Libraries imported.')\n"
        },
        {
            "cell_type": "markdown",
            "metadata": {},
            "source": "## Data Collection\nScrape neighbourhood data from the wikipedia page https://en.wikipedia.org/wiki/List_of_postal_codes_of_Canada:_M"
        },
        {
            "cell_type": "code",
            "execution_count": 2,
            "metadata": {},
            "outputs": [],
            "source": "# Scrape wikipedia page\nwiki_url = 'https://en.wikipedia.org/wiki/List_of_postal_codes_of_Canada:_M'\nwiki_html = requests.get(wiki_url).text\n\npage = BeautifulSoup(wiki_html, 'html.parser')\n"
        },
        {
            "cell_type": "code",
            "execution_count": 3,
            "metadata": {},
            "outputs": [
                {
                    "data": {
                        "text/html": "<div>\n<style scoped>\n    .dataframe tbody tr th:only-of-type {\n        vertical-align: middle;\n    }\n\n    .dataframe tbody tr th {\n        vertical-align: top;\n    }\n\n    .dataframe thead th {\n        text-align: right;\n    }\n</style>\n<table border=\"1\" class=\"dataframe\">\n  <thead>\n    <tr style=\"text-align: right;\">\n      <th></th>\n      <th>Postcode</th>\n      <th>Borough</th>\n      <th>Neighborhood</th>\n    </tr>\n  </thead>\n  <tbody>\n    <tr>\n      <th>0</th>\n      <td>M1A</td>\n      <td>Not assigned</td>\n      <td>Not assigned</td>\n    </tr>\n    <tr>\n      <th>1</th>\n      <td>M2A</td>\n      <td>Not assigned</td>\n      <td>Not assigned</td>\n    </tr>\n    <tr>\n      <th>2</th>\n      <td>M3A</td>\n      <td>North York</td>\n      <td>Parkwoods</td>\n    </tr>\n    <tr>\n      <th>3</th>\n      <td>M4A</td>\n      <td>North York</td>\n      <td>Victoria Village</td>\n    </tr>\n    <tr>\n      <th>4</th>\n      <td>M5A</td>\n      <td>Downtown Toronto</td>\n      <td>Harbourfront</td>\n    </tr>\n  </tbody>\n</table>\n</div>",
                        "text/plain": "  Postcode           Borough      Neighborhood\n0      M1A      Not assigned      Not assigned\n1      M2A      Not assigned      Not assigned\n2      M3A        North York         Parkwoods\n3      M4A        North York  Victoria Village\n4      M5A  Downtown Toronto      Harbourfront"
                    },
                    "execution_count": 3,
                    "metadata": {},
                    "output_type": "execute_result"
                }
            ],
            "source": "# get all data from page\ntable_rows = page.find_all('tr')\n\nl = []\nfor tr in table_rows:\n    td = tr.find_all('td')\n    row = [tr.text.strip() for tr in td]\n    l.append(row)\n\ntoronto = pd.DataFrame(l)\ntoronto = toronto.iloc[1:288, :3]\ntoronto.columns = ['Postcode', 'Borough', 'Neighborhood']\ntoronto.reset_index(drop=True, inplace=True)\ntoronto.head()"
        },
        {
            "cell_type": "markdown",
            "metadata": {},
            "source": "## Data Cleaning\nSteps to clean up the Toronto data: removing 'Not assigned' boroughs, combining multiple neighborhoods within a single postcode, and assigning borough names to unassigned neighborhoods."
        },
        {
            "cell_type": "code",
            "execution_count": 4,
            "metadata": {},
            "outputs": [
                {
                    "name": "stdout",
                    "output_type": "stream",
                    "text": "Number of rows of data = 103\n"
                },
                {
                    "data": {
                        "text/html": "<div>\n<style scoped>\n    .dataframe tbody tr th:only-of-type {\n        vertical-align: middle;\n    }\n\n    .dataframe tbody tr th {\n        vertical-align: top;\n    }\n\n    .dataframe thead th {\n        text-align: right;\n    }\n</style>\n<table border=\"1\" class=\"dataframe\">\n  <thead>\n    <tr style=\"text-align: right;\">\n      <th></th>\n      <th>Postcode</th>\n      <th>Neighborhood</th>\n      <th>Borough</th>\n    </tr>\n  </thead>\n  <tbody>\n    <tr>\n      <th>0</th>\n      <td>M1B</td>\n      <td>Rouge, Malvern</td>\n      <td>Scarborough</td>\n    </tr>\n    <tr>\n      <th>1</th>\n      <td>M1C</td>\n      <td>Highland Creek, Rouge Hill, Port Union</td>\n      <td>Scarborough</td>\n    </tr>\n    <tr>\n      <th>2</th>\n      <td>M1E</td>\n      <td>Guildwood, Morningside, West Hill</td>\n      <td>Scarborough</td>\n    </tr>\n    <tr>\n      <th>3</th>\n      <td>M1G</td>\n      <td>Woburn</td>\n      <td>Scarborough</td>\n    </tr>\n    <tr>\n      <th>4</th>\n      <td>M1H</td>\n      <td>Cedarbrae</td>\n      <td>Scarborough</td>\n    </tr>\n  </tbody>\n</table>\n</div>",
                        "text/plain": "  Postcode                            Neighborhood      Borough\n0      M1B                          Rouge, Malvern  Scarborough\n1      M1C  Highland Creek, Rouge Hill, Port Union  Scarborough\n2      M1E       Guildwood, Morningside, West Hill  Scarborough\n3      M1G                                  Woburn  Scarborough\n4      M1H                               Cedarbrae  Scarborough"
                    },
                    "execution_count": 4,
                    "metadata": {},
                    "output_type": "execute_result"
                }
            ],
            "source": "# drop rows where Borough is Not assigned\ntoronto.drop(toronto[toronto['Borough'] == 'Not assigned'].index, inplace=True)\ntoronto.reset_index(drop=True, inplace=True)\n\n# assign Borough name to Neighborhoods that are Not assigned\nidx = toronto[toronto['Neighborhood'] == 'Not assigned'].index.to_list()\n\nfor i in idx:\n    toronto.loc[i, 'Neighborhood'] = toronto.loc[i, 'Borough']\n\n# combine Neighborhoods with same postcodes\ntoronto_grouped = toronto.groupby('Postcode').agg({'Neighborhood': ', '.join})\n\ntoronto_merge = pd.merge(left=toronto_grouped, right=toronto.loc[:, ['Postcode', 'Borough']], how='left', on='Postcode')\ntoronto_merge.drop_duplicates(inplace=True)\ntoronto_merge.reset_index(drop=True, inplace=True)\n\nprint('Number of rows of data =', toronto_merge.shape[0])\ntoronto_merge.head()"
        },
        {
            "cell_type": "markdown",
            "metadata": {},
            "source": "## Get Latitude and Longitude\nThe latitude and longitude of each postcode are required in order to obtain venue information from Foursquare."
        },
        {
            "cell_type": "code",
            "execution_count": 5,
            "metadata": {},
            "outputs": [],
            "source": "# use Nominatim to obtain lat and long for each post code\n#lat = []\n#long = []\n#Nhoods = toronto_merge['Neighborhood']\n\n#geolocator = Nominatim(user_agent=\"toronto_explorer\")\n\n#for i, hood in enumerate(Nhoods):\n    #post_code = toronto_merge.Postcode[i]\n    #address = '{}, Toronto, Ontario'.format(post_code)\n    \n    #location = None\n    \n    #while (location is None):\n        #location = geolocator.geocode(address)\n    \n    #latitude = location.latitude\n    #longitude = location.longitude\n    \n    #lat.append(latitude)\n    #long.append(longitude)\n"
        },
        {
            "cell_type": "markdown",
            "metadata": {},
            "source": "Nominatim was not successful, so reverted to using the csv of geospatial coordinates that was supplied."
        },
        {
            "cell_type": "code",
            "execution_count": 6,
            "metadata": {},
            "outputs": [],
            "source": "# The code was removed by Watson Studio for sharing."
        },
        {
            "cell_type": "code",
            "execution_count": 7,
            "metadata": {},
            "outputs": [
                {
                    "name": "stdout",
                    "output_type": "stream",
                    "text": "  Postal Code   Latitude  Longitude\n0         M1B  43.806686 -79.194353\n1         M1C  43.784535 -79.160497\n2         M1E  43.763573 -79.188711\n3         M1G  43.770992 -79.216917\n4         M1H  43.773136 -79.239476\nShape = (103, 3)\n"
                }
            ],
            "source": "# load data from csv\nprint(coords.head())\nprint('Shape =', coords.shape)"
        },
        {
            "cell_type": "markdown",
            "metadata": {},
            "source": "Add the latitude and longitude data to the Neighborhoods dataframe."
        },
        {
            "cell_type": "code",
            "execution_count": 8,
            "metadata": {},
            "outputs": [
                {
                    "name": "stdout",
                    "output_type": "stream",
                    "text": "Dataframe shape: (103, 5)\n"
                },
                {
                    "data": {
                        "text/html": "<div>\n<style scoped>\n    .dataframe tbody tr th:only-of-type {\n        vertical-align: middle;\n    }\n\n    .dataframe tbody tr th {\n        vertical-align: top;\n    }\n\n    .dataframe thead th {\n        text-align: right;\n    }\n</style>\n<table border=\"1\" class=\"dataframe\">\n  <thead>\n    <tr style=\"text-align: right;\">\n      <th></th>\n      <th>Postcode</th>\n      <th>Neighborhood</th>\n      <th>Borough</th>\n      <th>Latitude</th>\n      <th>Longitude</th>\n    </tr>\n  </thead>\n  <tbody>\n    <tr>\n      <th>0</th>\n      <td>M1B</td>\n      <td>Rouge, Malvern</td>\n      <td>Scarborough</td>\n      <td>43.806686</td>\n      <td>-79.194353</td>\n    </tr>\n    <tr>\n      <th>1</th>\n      <td>M1C</td>\n      <td>Highland Creek, Rouge Hill, Port Union</td>\n      <td>Scarborough</td>\n      <td>43.784535</td>\n      <td>-79.160497</td>\n    </tr>\n    <tr>\n      <th>2</th>\n      <td>M1E</td>\n      <td>Guildwood, Morningside, West Hill</td>\n      <td>Scarborough</td>\n      <td>43.763573</td>\n      <td>-79.188711</td>\n    </tr>\n    <tr>\n      <th>3</th>\n      <td>M1G</td>\n      <td>Woburn</td>\n      <td>Scarborough</td>\n      <td>43.770992</td>\n      <td>-79.216917</td>\n    </tr>\n    <tr>\n      <th>4</th>\n      <td>M1H</td>\n      <td>Cedarbrae</td>\n      <td>Scarborough</td>\n      <td>43.773136</td>\n      <td>-79.239476</td>\n    </tr>\n  </tbody>\n</table>\n</div>",
                        "text/plain": "  Postcode                            Neighborhood      Borough   Latitude  \\\n0      M1B                          Rouge, Malvern  Scarborough  43.806686   \n1      M1C  Highland Creek, Rouge Hill, Port Union  Scarborough  43.784535   \n2      M1E       Guildwood, Morningside, West Hill  Scarborough  43.763573   \n3      M1G                                  Woburn  Scarborough  43.770992   \n4      M1H                               Cedarbrae  Scarborough  43.773136   \n\n   Longitude  \n0 -79.194353  \n1 -79.160497  \n2 -79.188711  \n3 -79.216917  \n4 -79.239476  "
                    },
                    "execution_count": 8,
                    "metadata": {},
                    "output_type": "execute_result"
                }
            ],
            "source": "# merge on postcode\ntoronto_coords = pd.merge(left=toronto_merge, right=coords, how='left', left_on='Postcode', right_on='Postal Code')\ntoronto_coords.reset_index(drop=True, inplace=True)\ntoronto_coords.drop('Postal Code', axis=1, inplace=True)\nprint('Dataframe shape:', toronto_coords.shape)\ntoronto_coords.head()"
        },
        {
            "cell_type": "code",
            "execution_count": 9,
            "metadata": {},
            "outputs": [
                {
                    "name": "stdout",
                    "output_type": "stream",
                    "text": "Dataframe shape: (51, 5)\n"
                },
                {
                    "data": {
                        "text/html": "<div>\n<style scoped>\n    .dataframe tbody tr th:only-of-type {\n        vertical-align: middle;\n    }\n\n    .dataframe tbody tr th {\n        vertical-align: top;\n    }\n\n    .dataframe thead th {\n        text-align: right;\n    }\n</style>\n<table border=\"1\" class=\"dataframe\">\n  <thead>\n    <tr style=\"text-align: right;\">\n      <th></th>\n      <th>Postcode</th>\n      <th>Neighborhood</th>\n      <th>Borough</th>\n      <th>Latitude</th>\n      <th>Longitude</th>\n    </tr>\n  </thead>\n  <tbody>\n    <tr>\n      <th>0</th>\n      <td>M4B</td>\n      <td>Woodbine Gardens, Parkview Hill</td>\n      <td>East York</td>\n      <td>43.706397</td>\n      <td>-79.309937</td>\n    </tr>\n    <tr>\n      <th>1</th>\n      <td>M4C</td>\n      <td>Woodbine Heights</td>\n      <td>East York</td>\n      <td>43.695344</td>\n      <td>-79.318389</td>\n    </tr>\n    <tr>\n      <th>2</th>\n      <td>M4E</td>\n      <td>The Beaches</td>\n      <td>East Toronto</td>\n      <td>43.676357</td>\n      <td>-79.293031</td>\n    </tr>\n    <tr>\n      <th>3</th>\n      <td>M4G</td>\n      <td>Leaside</td>\n      <td>East York</td>\n      <td>43.709060</td>\n      <td>-79.363452</td>\n    </tr>\n    <tr>\n      <th>4</th>\n      <td>M4H</td>\n      <td>Thorncliffe Park</td>\n      <td>East York</td>\n      <td>43.705369</td>\n      <td>-79.349372</td>\n    </tr>\n  </tbody>\n</table>\n</div>",
                        "text/plain": "  Postcode                     Neighborhood       Borough   Latitude  \\\n0      M4B  Woodbine Gardens, Parkview Hill     East York  43.706397   \n1      M4C                 Woodbine Heights     East York  43.695344   \n2      M4E                      The Beaches  East Toronto  43.676357   \n3      M4G                          Leaside     East York  43.709060   \n4      M4H                 Thorncliffe Park     East York  43.705369   \n\n   Longitude  \n0 -79.309937  \n1 -79.318389  \n2 -79.293031  \n3 -79.363452  \n4 -79.349372  "
                    },
                    "execution_count": 9,
                    "metadata": {},
                    "output_type": "execute_result"
                }
            ],
            "source": "# remove outer boroughs for simplicity\ndrop_boroughs = ['Scarborough', 'North York', 'Etobicoke']\ntoronto_coords = toronto_coords[~toronto_coords['Borough'].isin(drop_boroughs)]\n\ntoronto_coords.reset_index(drop=True, inplace=True)\n\nprint('Dataframe shape:', toronto_coords.shape)\ntoronto_coords.head()"
        },
        {
            "cell_type": "markdown",
            "metadata": {},
            "source": "## Get Foursquare Venue Data\nFor each postcode, obtain venue data from Foursquare by exploring latitude and longitude coordinates."
        },
        {
            "cell_type": "code",
            "execution_count": 10,
            "metadata": {},
            "outputs": [],
            "source": "# The code was removed by Watson Studio for sharing."
        },
        {
            "cell_type": "code",
            "execution_count": 11,
            "metadata": {},
            "outputs": [],
            "source": "# define Foursquare version and search radius and results limit\nVERSION = '20180605'\nRADIUS = 500\nLIMIT = 100"
        },
        {
            "cell_type": "code",
            "execution_count": 12,
            "metadata": {},
            "outputs": [],
            "source": "# define function to obtain venue information for all post codes\ndef getNearbyVenues(postcodes, latitudes, longitudes, radius=RADIUS):\n    \n    venues_list=[]\n    for code, lat, lng in zip(postcodes, latitudes, longitudes):\n        # print(code)\n            \n        # create the API request URL\n        url = 'https://api.foursquare.com/v2/venues/explore?&client_id={}&client_secret={}&v={}&ll={},{}&radius={}&limit={}'.format(\n            CLIENT_ID, \n            CLIENT_SECRET, \n            VERSION, \n            lat, \n            lng, \n            radius, \n            LIMIT)\n            \n        # make the GET request\n        results = requests.get(url).json()[\"response\"]['groups'][0]['items']\n        \n        # return only relevant information for each nearby venue\n        venues_list.append([(\n            code, \n            lat, \n            lng, \n            v['venue']['name'], \n            v['venue']['location']['lat'], \n            v['venue']['location']['lng'],  \n            v['venue']['categories'][0]['name']) for v in results])\n\n    nearby_venues = pd.DataFrame([item for venue_list in venues_list for item in venue_list])\n    nearby_venues.columns = ['Postcode', \n                  'Postcode Latitude', \n                  'Postcode Longitude', \n                  'Venue', \n                  'Venue Latitude', \n                  'Venue Longitude', \n                  'Venue Category']\n    \n    return(nearby_venues)"
        },
        {
            "cell_type": "code",
            "execution_count": 14,
            "metadata": {},
            "outputs": [],
            "source": "# use function for all postcodes\ntoronto_venues = getNearbyVenues(postcodes=toronto_coords['Postcode'],\n                                   latitudes=toronto_coords['Latitude'],\n                                   longitudes=toronto_coords['Longitude']\n                                  )"
        },
        {
            "cell_type": "code",
            "execution_count": 15,
            "metadata": {},
            "outputs": [
                {
                    "name": "stdout",
                    "output_type": "stream",
                    "text": "Dataframe shape: (1794, 7)\n"
                },
                {
                    "data": {
                        "text/html": "<div>\n<style scoped>\n    .dataframe tbody tr th:only-of-type {\n        vertical-align: middle;\n    }\n\n    .dataframe tbody tr th {\n        vertical-align: top;\n    }\n\n    .dataframe thead th {\n        text-align: right;\n    }\n</style>\n<table border=\"1\" class=\"dataframe\">\n  <thead>\n    <tr style=\"text-align: right;\">\n      <th></th>\n      <th>Postcode</th>\n      <th>Postcode Latitude</th>\n      <th>Postcode Longitude</th>\n      <th>Venue</th>\n      <th>Venue Latitude</th>\n      <th>Venue Longitude</th>\n      <th>Venue Category</th>\n    </tr>\n  </thead>\n  <tbody>\n    <tr>\n      <th>0</th>\n      <td>M4B</td>\n      <td>43.706397</td>\n      <td>-79.309937</td>\n      <td>Jawny Bakers</td>\n      <td>43.705783</td>\n      <td>-79.312913</td>\n      <td>Gastropub</td>\n    </tr>\n    <tr>\n      <th>1</th>\n      <td>M4B</td>\n      <td>43.706397</td>\n      <td>-79.309937</td>\n      <td>East York Gymnastics</td>\n      <td>43.710654</td>\n      <td>-79.309279</td>\n      <td>Gym / Fitness Center</td>\n    </tr>\n    <tr>\n      <th>2</th>\n      <td>M4B</td>\n      <td>43.706397</td>\n      <td>-79.309937</td>\n      <td>Shoppers Drug Mart</td>\n      <td>43.705933</td>\n      <td>-79.312825</td>\n      <td>Pharmacy</td>\n    </tr>\n    <tr>\n      <th>3</th>\n      <td>M4B</td>\n      <td>43.706397</td>\n      <td>-79.309937</td>\n      <td>TD Canada Trust</td>\n      <td>43.705740</td>\n      <td>-79.312270</td>\n      <td>Bank</td>\n    </tr>\n    <tr>\n      <th>4</th>\n      <td>M4B</td>\n      <td>43.706397</td>\n      <td>-79.309937</td>\n      <td>Pizza Pizza</td>\n      <td>43.705159</td>\n      <td>-79.313130</td>\n      <td>Pizza Place</td>\n    </tr>\n  </tbody>\n</table>\n</div>",
                        "text/plain": "  Postcode  Postcode Latitude  Postcode Longitude                 Venue  \\\n0      M4B          43.706397          -79.309937          Jawny Bakers   \n1      M4B          43.706397          -79.309937  East York Gymnastics   \n2      M4B          43.706397          -79.309937    Shoppers Drug Mart   \n3      M4B          43.706397          -79.309937       TD Canada Trust   \n4      M4B          43.706397          -79.309937           Pizza Pizza   \n\n   Venue Latitude  Venue Longitude        Venue Category  \n0       43.705783       -79.312913             Gastropub  \n1       43.710654       -79.309279  Gym / Fitness Center  \n2       43.705933       -79.312825              Pharmacy  \n3       43.705740       -79.312270                  Bank  \n4       43.705159       -79.313130           Pizza Place  "
                    },
                    "execution_count": 15,
                    "metadata": {},
                    "output_type": "execute_result"
                }
            ],
            "source": "# check resulting dataframe\nprint('Dataframe shape:', toronto_venues.shape)\ntoronto_venues.head()"
        },
        {
            "cell_type": "code",
            "execution_count": 16,
            "metadata": {},
            "outputs": [
                {
                    "name": "stdout",
                    "output_type": "stream",
                    "text": "There are 234 unique categories.\n"
                }
            ],
            "source": "# information on venues\nprint('There are {} unique categories.'.format(len(toronto_venues['Venue Category'].unique())))"
        },
        {
            "cell_type": "markdown",
            "metadata": {},
            "source": "## Analyse Venue Data\nDetermine frequency of venue category by postcode."
        },
        {
            "cell_type": "code",
            "execution_count": 17,
            "metadata": {},
            "outputs": [
                {
                    "data": {
                        "text/html": "<div>\n<style scoped>\n    .dataframe tbody tr th:only-of-type {\n        vertical-align: middle;\n    }\n\n    .dataframe tbody tr th {\n        vertical-align: top;\n    }\n\n    .dataframe thead th {\n        text-align: right;\n    }\n</style>\n<table border=\"1\" class=\"dataframe\">\n  <thead>\n    <tr style=\"text-align: right;\">\n      <th></th>\n      <th>Postcode</th>\n      <th>Afghan Restaurant</th>\n      <th>Airport</th>\n      <th>Airport Food Court</th>\n      <th>Airport Gate</th>\n      <th>Airport Lounge</th>\n      <th>Airport Service</th>\n      <th>Airport Terminal</th>\n      <th>American Restaurant</th>\n      <th>Antique Shop</th>\n      <th>...</th>\n      <th>Train Station</th>\n      <th>Vegetarian / Vegan Restaurant</th>\n      <th>Video Game Store</th>\n      <th>Video Store</th>\n      <th>Vietnamese Restaurant</th>\n      <th>Warehouse Store</th>\n      <th>Wine Bar</th>\n      <th>Wings Joint</th>\n      <th>Women's Store</th>\n      <th>Yoga Studio</th>\n    </tr>\n  </thead>\n  <tbody>\n    <tr>\n      <th>0</th>\n      <td>M4B</td>\n      <td>0</td>\n      <td>0</td>\n      <td>0</td>\n      <td>0</td>\n      <td>0</td>\n      <td>0</td>\n      <td>0</td>\n      <td>0</td>\n      <td>0</td>\n      <td>...</td>\n      <td>0</td>\n      <td>0</td>\n      <td>0</td>\n      <td>0</td>\n      <td>0</td>\n      <td>0</td>\n      <td>0</td>\n      <td>0</td>\n      <td>0</td>\n      <td>0</td>\n    </tr>\n    <tr>\n      <th>1</th>\n      <td>M4B</td>\n      <td>0</td>\n      <td>0</td>\n      <td>0</td>\n      <td>0</td>\n      <td>0</td>\n      <td>0</td>\n      <td>0</td>\n      <td>0</td>\n      <td>0</td>\n      <td>...</td>\n      <td>0</td>\n      <td>0</td>\n      <td>0</td>\n      <td>0</td>\n      <td>0</td>\n      <td>0</td>\n      <td>0</td>\n      <td>0</td>\n      <td>0</td>\n      <td>0</td>\n    </tr>\n    <tr>\n      <th>2</th>\n      <td>M4B</td>\n      <td>0</td>\n      <td>0</td>\n      <td>0</td>\n      <td>0</td>\n      <td>0</td>\n      <td>0</td>\n      <td>0</td>\n      <td>0</td>\n      <td>0</td>\n      <td>...</td>\n      <td>0</td>\n      <td>0</td>\n      <td>0</td>\n      <td>0</td>\n      <td>0</td>\n      <td>0</td>\n      <td>0</td>\n      <td>0</td>\n      <td>0</td>\n      <td>0</td>\n    </tr>\n    <tr>\n      <th>3</th>\n      <td>M4B</td>\n      <td>0</td>\n      <td>0</td>\n      <td>0</td>\n      <td>0</td>\n      <td>0</td>\n      <td>0</td>\n      <td>0</td>\n      <td>0</td>\n      <td>0</td>\n      <td>...</td>\n      <td>0</td>\n      <td>0</td>\n      <td>0</td>\n      <td>0</td>\n      <td>0</td>\n      <td>0</td>\n      <td>0</td>\n      <td>0</td>\n      <td>0</td>\n      <td>0</td>\n    </tr>\n    <tr>\n      <th>4</th>\n      <td>M4B</td>\n      <td>0</td>\n      <td>0</td>\n      <td>0</td>\n      <td>0</td>\n      <td>0</td>\n      <td>0</td>\n      <td>0</td>\n      <td>0</td>\n      <td>0</td>\n      <td>...</td>\n      <td>0</td>\n      <td>0</td>\n      <td>0</td>\n      <td>0</td>\n      <td>0</td>\n      <td>0</td>\n      <td>0</td>\n      <td>0</td>\n      <td>0</td>\n      <td>0</td>\n    </tr>\n  </tbody>\n</table>\n<p>5 rows \u00d7 235 columns</p>\n</div>",
                        "text/plain": "  Postcode  Afghan Restaurant  Airport  Airport Food Court  Airport Gate  \\\n0      M4B                  0        0                   0             0   \n1      M4B                  0        0                   0             0   \n2      M4B                  0        0                   0             0   \n3      M4B                  0        0                   0             0   \n4      M4B                  0        0                   0             0   \n\n   Airport Lounge  Airport Service  Airport Terminal  American Restaurant  \\\n0               0                0                 0                    0   \n1               0                0                 0                    0   \n2               0                0                 0                    0   \n3               0                0                 0                    0   \n4               0                0                 0                    0   \n\n   Antique Shop  ...  Train Station  Vegetarian / Vegan Restaurant  \\\n0             0  ...              0                              0   \n1             0  ...              0                              0   \n2             0  ...              0                              0   \n3             0  ...              0                              0   \n4             0  ...              0                              0   \n\n   Video Game Store  Video Store  Vietnamese Restaurant  Warehouse Store  \\\n0                 0            0                      0                0   \n1                 0            0                      0                0   \n2                 0            0                      0                0   \n3                 0            0                      0                0   \n4                 0            0                      0                0   \n\n   Wine Bar  Wings Joint  Women's Store  Yoga Studio  \n0         0            0              0            0  \n1         0            0              0            0  \n2         0            0              0            0  \n3         0            0              0            0  \n4         0            0              0            0  \n\n[5 rows x 235 columns]"
                    },
                    "execution_count": 17,
                    "metadata": {},
                    "output_type": "execute_result"
                }
            ],
            "source": "# one hot encoding of venue category\ntoronto_onehot = pd.get_dummies(toronto_venues[['Venue Category']], prefix=\"\", prefix_sep=\"\")\n\n# add postcode column back to dataframe\ntoronto_onehot['Postcode'] = toronto_venues['Postcode'] \n\n# move postcode column to the first column\nfixed_columns = [toronto_onehot.columns[-1]] + list(toronto_onehot.columns[:-1])\ntoronto_onehot = toronto_onehot[fixed_columns]\n\ntoronto_onehot.head()"
        },
        {
            "cell_type": "code",
            "execution_count": 18,
            "metadata": {},
            "outputs": [
                {
                    "data": {
                        "text/html": "<div>\n<style scoped>\n    .dataframe tbody tr th:only-of-type {\n        vertical-align: middle;\n    }\n\n    .dataframe tbody tr th {\n        vertical-align: top;\n    }\n\n    .dataframe thead th {\n        text-align: right;\n    }\n</style>\n<table border=\"1\" class=\"dataframe\">\n  <thead>\n    <tr style=\"text-align: right;\">\n      <th></th>\n      <th>Postcode</th>\n      <th>Afghan Restaurant</th>\n      <th>Airport</th>\n      <th>Airport Food Court</th>\n      <th>Airport Gate</th>\n      <th>Airport Lounge</th>\n      <th>Airport Service</th>\n      <th>Airport Terminal</th>\n      <th>American Restaurant</th>\n      <th>Antique Shop</th>\n      <th>...</th>\n      <th>Train Station</th>\n      <th>Vegetarian / Vegan Restaurant</th>\n      <th>Video Game Store</th>\n      <th>Video Store</th>\n      <th>Vietnamese Restaurant</th>\n      <th>Warehouse Store</th>\n      <th>Wine Bar</th>\n      <th>Wings Joint</th>\n      <th>Women's Store</th>\n      <th>Yoga Studio</th>\n    </tr>\n  </thead>\n  <tbody>\n    <tr>\n      <th>0</th>\n      <td>M4B</td>\n      <td>0.0</td>\n      <td>0.0</td>\n      <td>0.0</td>\n      <td>0.0</td>\n      <td>0.0</td>\n      <td>0.0</td>\n      <td>0.0</td>\n      <td>0.0</td>\n      <td>0.0</td>\n      <td>...</td>\n      <td>0.0</td>\n      <td>0.0</td>\n      <td>0.0</td>\n      <td>0.000000</td>\n      <td>0.0</td>\n      <td>0.0000</td>\n      <td>0.0</td>\n      <td>0.0</td>\n      <td>0.0</td>\n      <td>0.0000</td>\n    </tr>\n    <tr>\n      <th>1</th>\n      <td>M4C</td>\n      <td>0.0</td>\n      <td>0.0</td>\n      <td>0.0</td>\n      <td>0.0</td>\n      <td>0.0</td>\n      <td>0.0</td>\n      <td>0.0</td>\n      <td>0.0</td>\n      <td>0.0</td>\n      <td>...</td>\n      <td>0.0</td>\n      <td>0.0</td>\n      <td>0.0</td>\n      <td>0.111111</td>\n      <td>0.0</td>\n      <td>0.0000</td>\n      <td>0.0</td>\n      <td>0.0</td>\n      <td>0.0</td>\n      <td>0.0000</td>\n    </tr>\n    <tr>\n      <th>2</th>\n      <td>M4E</td>\n      <td>0.0</td>\n      <td>0.0</td>\n      <td>0.0</td>\n      <td>0.0</td>\n      <td>0.0</td>\n      <td>0.0</td>\n      <td>0.0</td>\n      <td>0.0</td>\n      <td>0.0</td>\n      <td>...</td>\n      <td>0.0</td>\n      <td>0.0</td>\n      <td>0.0</td>\n      <td>0.000000</td>\n      <td>0.0</td>\n      <td>0.0000</td>\n      <td>0.0</td>\n      <td>0.0</td>\n      <td>0.0</td>\n      <td>0.0000</td>\n    </tr>\n    <tr>\n      <th>3</th>\n      <td>M4G</td>\n      <td>0.0</td>\n      <td>0.0</td>\n      <td>0.0</td>\n      <td>0.0</td>\n      <td>0.0</td>\n      <td>0.0</td>\n      <td>0.0</td>\n      <td>0.0</td>\n      <td>0.0</td>\n      <td>...</td>\n      <td>0.0</td>\n      <td>0.0</td>\n      <td>0.0</td>\n      <td>0.000000</td>\n      <td>0.0</td>\n      <td>0.0000</td>\n      <td>0.0</td>\n      <td>0.0</td>\n      <td>0.0</td>\n      <td>0.0000</td>\n    </tr>\n    <tr>\n      <th>4</th>\n      <td>M4H</td>\n      <td>0.0</td>\n      <td>0.0</td>\n      <td>0.0</td>\n      <td>0.0</td>\n      <td>0.0</td>\n      <td>0.0</td>\n      <td>0.0</td>\n      <td>0.0</td>\n      <td>0.0</td>\n      <td>...</td>\n      <td>0.0</td>\n      <td>0.0</td>\n      <td>0.0</td>\n      <td>0.000000</td>\n      <td>0.0</td>\n      <td>0.0625</td>\n      <td>0.0</td>\n      <td>0.0</td>\n      <td>0.0</td>\n      <td>0.0625</td>\n    </tr>\n  </tbody>\n</table>\n<p>5 rows \u00d7 235 columns</p>\n</div>",
                        "text/plain": "  Postcode  Afghan Restaurant  Airport  Airport Food Court  Airport Gate  \\\n0      M4B                0.0      0.0                 0.0           0.0   \n1      M4C                0.0      0.0                 0.0           0.0   \n2      M4E                0.0      0.0                 0.0           0.0   \n3      M4G                0.0      0.0                 0.0           0.0   \n4      M4H                0.0      0.0                 0.0           0.0   \n\n   Airport Lounge  Airport Service  Airport Terminal  American Restaurant  \\\n0             0.0              0.0               0.0                  0.0   \n1             0.0              0.0               0.0                  0.0   \n2             0.0              0.0               0.0                  0.0   \n3             0.0              0.0               0.0                  0.0   \n4             0.0              0.0               0.0                  0.0   \n\n   Antique Shop  ...  Train Station  Vegetarian / Vegan Restaurant  \\\n0           0.0  ...            0.0                            0.0   \n1           0.0  ...            0.0                            0.0   \n2           0.0  ...            0.0                            0.0   \n3           0.0  ...            0.0                            0.0   \n4           0.0  ...            0.0                            0.0   \n\n   Video Game Store  Video Store  Vietnamese Restaurant  Warehouse Store  \\\n0               0.0     0.000000                    0.0           0.0000   \n1               0.0     0.111111                    0.0           0.0000   \n2               0.0     0.000000                    0.0           0.0000   \n3               0.0     0.000000                    0.0           0.0000   \n4               0.0     0.000000                    0.0           0.0625   \n\n   Wine Bar  Wings Joint  Women's Store  Yoga Studio  \n0       0.0          0.0            0.0       0.0000  \n1       0.0          0.0            0.0       0.0000  \n2       0.0          0.0            0.0       0.0000  \n3       0.0          0.0            0.0       0.0000  \n4       0.0          0.0            0.0       0.0625  \n\n[5 rows x 235 columns]"
                    },
                    "execution_count": 18,
                    "metadata": {},
                    "output_type": "execute_result"
                }
            ],
            "source": "# group venue data by postcode and take mean of categories for frequency value\ntoronto_venue_grouped = toronto_onehot.groupby('Postcode').mean().reset_index()\ntoronto_venue_grouped.head()"
        },
        {
            "cell_type": "markdown",
            "metadata": {},
            "source": "Display common venues by postcode."
        },
        {
            "cell_type": "code",
            "execution_count": 19,
            "metadata": {},
            "outputs": [],
            "source": "# define function to return common venues\ndef return_most_common_venues(row, num_top_venues):\n    row_categories = row.iloc[1:]\n    row_categories_sorted = row_categories.sort_values(ascending=False)\n    \n    return row_categories_sorted.index.values[0:num_top_venues]"
        },
        {
            "cell_type": "code",
            "execution_count": 20,
            "metadata": {},
            "outputs": [
                {
                    "data": {
                        "text/html": "<div>\n<style scoped>\n    .dataframe tbody tr th:only-of-type {\n        vertical-align: middle;\n    }\n\n    .dataframe tbody tr th {\n        vertical-align: top;\n    }\n\n    .dataframe thead th {\n        text-align: right;\n    }\n</style>\n<table border=\"1\" class=\"dataframe\">\n  <thead>\n    <tr style=\"text-align: right;\">\n      <th></th>\n      <th>Postcode</th>\n      <th>1st Most Common Venue</th>\n      <th>2nd Most Common Venue</th>\n      <th>3rd Most Common Venue</th>\n      <th>4th Most Common Venue</th>\n      <th>5th Most Common Venue</th>\n      <th>6th Most Common Venue</th>\n      <th>7th Most Common Venue</th>\n      <th>8th Most Common Venue</th>\n    </tr>\n  </thead>\n  <tbody>\n    <tr>\n      <th>0</th>\n      <td>M4B</td>\n      <td>Fast Food Restaurant</td>\n      <td>Pizza Place</td>\n      <td>Bus Line</td>\n      <td>Intersection</td>\n      <td>Gym / Fitness Center</td>\n      <td>Pet Store</td>\n      <td>Gastropub</td>\n      <td>Pharmacy</td>\n    </tr>\n    <tr>\n      <th>1</th>\n      <td>M4C</td>\n      <td>Curling Ice</td>\n      <td>Pharmacy</td>\n      <td>Spa</td>\n      <td>Beer Store</td>\n      <td>Asian Restaurant</td>\n      <td>Cosmetics Shop</td>\n      <td>Skating Rink</td>\n      <td>Video Store</td>\n    </tr>\n    <tr>\n      <th>2</th>\n      <td>M4E</td>\n      <td>Park</td>\n      <td>Trail</td>\n      <td>Pub</td>\n      <td>Neighborhood</td>\n      <td>Health Food Store</td>\n      <td>Dog Run</td>\n      <td>Discount Store</td>\n      <td>Diner</td>\n    </tr>\n    <tr>\n      <th>3</th>\n      <td>M4G</td>\n      <td>Coffee Shop</td>\n      <td>Sporting Goods Shop</td>\n      <td>Sushi Restaurant</td>\n      <td>Furniture / Home Store</td>\n      <td>Burger Joint</td>\n      <td>Electronics Store</td>\n      <td>Restaurant</td>\n      <td>Shopping Mall</td>\n    </tr>\n    <tr>\n      <th>4</th>\n      <td>M4H</td>\n      <td>Indian Restaurant</td>\n      <td>Yoga Studio</td>\n      <td>Supermarket</td>\n      <td>Bank</td>\n      <td>Burger Joint</td>\n      <td>Coffee Shop</td>\n      <td>Fast Food Restaurant</td>\n      <td>Gas Station</td>\n    </tr>\n  </tbody>\n</table>\n</div>",
                        "text/plain": "  Postcode 1st Most Common Venue 2nd Most Common Venue 3rd Most Common Venue  \\\n0      M4B  Fast Food Restaurant           Pizza Place              Bus Line   \n1      M4C           Curling Ice              Pharmacy                   Spa   \n2      M4E                  Park                 Trail                   Pub   \n3      M4G           Coffee Shop   Sporting Goods Shop      Sushi Restaurant   \n4      M4H     Indian Restaurant           Yoga Studio           Supermarket   \n\n    4th Most Common Venue 5th Most Common Venue 6th Most Common Venue  \\\n0            Intersection  Gym / Fitness Center             Pet Store   \n1              Beer Store      Asian Restaurant        Cosmetics Shop   \n2            Neighborhood     Health Food Store               Dog Run   \n3  Furniture / Home Store          Burger Joint     Electronics Store   \n4                    Bank          Burger Joint           Coffee Shop   \n\n  7th Most Common Venue 8th Most Common Venue  \n0             Gastropub              Pharmacy  \n1          Skating Rink           Video Store  \n2        Discount Store                 Diner  \n3            Restaurant         Shopping Mall  \n4  Fast Food Restaurant           Gas Station  "
                    },
                    "execution_count": 20,
                    "metadata": {},
                    "output_type": "execute_result"
                }
            ],
            "source": "# create dataframe with common venues by postcode\nnum_top_venues = 8\n\nindicators = ['st', 'nd', 'rd']\n\n# create columns according to number of top venues\ncolumns = ['Postcode']\nfor ind in np.arange(num_top_venues):\n    try:\n        columns.append('{}{} Most Common Venue'.format(ind+1, indicators[ind]))\n    except:\n        columns.append('{}th Most Common Venue'.format(ind+1))\n\n# create a new dataframe\nneighborhoods_venues_sorted = pd.DataFrame(columns=columns)\nneighborhoods_venues_sorted['Postcode'] = toronto_venue_grouped['Postcode']\n\nfor ind in np.arange(toronto_venue_grouped.shape[0]):\n    neighborhoods_venues_sorted.iloc[ind, 1:] = return_most_common_venues(toronto_venue_grouped.iloc[ind, :], num_top_venues)\n\nneighborhoods_venues_sorted.head()"
        },
        {
            "cell_type": "markdown",
            "metadata": {},
            "source": "## Postcode Cluster Analysis\nCreate clusters of similar postcodes by venue frequency."
        },
        {
            "cell_type": "code",
            "execution_count": 21,
            "metadata": {},
            "outputs": [
                {
                    "data": {
                        "text/plain": "array([0, 0, 2, 0, 0, 4, 0, 0, 0, 6], dtype=int32)"
                    },
                    "execution_count": 21,
                    "metadata": {},
                    "output_type": "execute_result"
                }
            ],
            "source": "# set number of clusters\nkclusters = 8\n\ntoronto_grouped_clustering = toronto_venue_grouped.drop('Postcode', 1)\n\n# run k-means clustering\nk_means = KMeans(init=\"k-means++\", n_clusters=kclusters, n_init=12).fit(toronto_grouped_clustering)\n\n# check cluster labels generated for each row in the dataframe\nk_means.labels_[0:10]"
        },
        {
            "cell_type": "code",
            "execution_count": 22,
            "metadata": {},
            "outputs": [
                {
                    "data": {
                        "text/html": "<div>\n<style scoped>\n    .dataframe tbody tr th:only-of-type {\n        vertical-align: middle;\n    }\n\n    .dataframe tbody tr th {\n        vertical-align: top;\n    }\n\n    .dataframe thead th {\n        text-align: right;\n    }\n</style>\n<table border=\"1\" class=\"dataframe\">\n  <thead>\n    <tr style=\"text-align: right;\">\n      <th></th>\n      <th>Cluster Labels</th>\n      <th>Postcode</th>\n      <th>1st Most Common Venue</th>\n      <th>2nd Most Common Venue</th>\n      <th>3rd Most Common Venue</th>\n      <th>4th Most Common Venue</th>\n      <th>5th Most Common Venue</th>\n      <th>6th Most Common Venue</th>\n      <th>7th Most Common Venue</th>\n      <th>8th Most Common Venue</th>\n      <th>Neighborhood</th>\n      <th>Borough</th>\n      <th>Latitude</th>\n      <th>Longitude</th>\n    </tr>\n  </thead>\n  <tbody>\n    <tr>\n      <th>0</th>\n      <td>0</td>\n      <td>M4B</td>\n      <td>Fast Food Restaurant</td>\n      <td>Pizza Place</td>\n      <td>Bus Line</td>\n      <td>Intersection</td>\n      <td>Gym / Fitness Center</td>\n      <td>Pet Store</td>\n      <td>Gastropub</td>\n      <td>Pharmacy</td>\n      <td>Woodbine Gardens, Parkview Hill</td>\n      <td>East York</td>\n      <td>43.706397</td>\n      <td>-79.309937</td>\n    </tr>\n    <tr>\n      <th>1</th>\n      <td>0</td>\n      <td>M4C</td>\n      <td>Curling Ice</td>\n      <td>Pharmacy</td>\n      <td>Spa</td>\n      <td>Beer Store</td>\n      <td>Asian Restaurant</td>\n      <td>Cosmetics Shop</td>\n      <td>Skating Rink</td>\n      <td>Video Store</td>\n      <td>Woodbine Heights</td>\n      <td>East York</td>\n      <td>43.695344</td>\n      <td>-79.318389</td>\n    </tr>\n    <tr>\n      <th>2</th>\n      <td>2</td>\n      <td>M4E</td>\n      <td>Park</td>\n      <td>Trail</td>\n      <td>Pub</td>\n      <td>Neighborhood</td>\n      <td>Health Food Store</td>\n      <td>Dog Run</td>\n      <td>Discount Store</td>\n      <td>Diner</td>\n      <td>The Beaches</td>\n      <td>East Toronto</td>\n      <td>43.676357</td>\n      <td>-79.293031</td>\n    </tr>\n    <tr>\n      <th>3</th>\n      <td>0</td>\n      <td>M4G</td>\n      <td>Coffee Shop</td>\n      <td>Sporting Goods Shop</td>\n      <td>Sushi Restaurant</td>\n      <td>Furniture / Home Store</td>\n      <td>Burger Joint</td>\n      <td>Electronics Store</td>\n      <td>Restaurant</td>\n      <td>Shopping Mall</td>\n      <td>Leaside</td>\n      <td>East York</td>\n      <td>43.709060</td>\n      <td>-79.363452</td>\n    </tr>\n    <tr>\n      <th>4</th>\n      <td>0</td>\n      <td>M4H</td>\n      <td>Indian Restaurant</td>\n      <td>Yoga Studio</td>\n      <td>Supermarket</td>\n      <td>Bank</td>\n      <td>Burger Joint</td>\n      <td>Coffee Shop</td>\n      <td>Fast Food Restaurant</td>\n      <td>Gas Station</td>\n      <td>Thorncliffe Park</td>\n      <td>East York</td>\n      <td>43.705369</td>\n      <td>-79.349372</td>\n    </tr>\n  </tbody>\n</table>\n</div>",
                        "text/plain": "   Cluster Labels Postcode 1st Most Common Venue 2nd Most Common Venue  \\\n0               0      M4B  Fast Food Restaurant           Pizza Place   \n1               0      M4C           Curling Ice              Pharmacy   \n2               2      M4E                  Park                 Trail   \n3               0      M4G           Coffee Shop   Sporting Goods Shop   \n4               0      M4H     Indian Restaurant           Yoga Studio   \n\n  3rd Most Common Venue   4th Most Common Venue 5th Most Common Venue  \\\n0              Bus Line            Intersection  Gym / Fitness Center   \n1                   Spa              Beer Store      Asian Restaurant   \n2                   Pub            Neighborhood     Health Food Store   \n3      Sushi Restaurant  Furniture / Home Store          Burger Joint   \n4           Supermarket                    Bank          Burger Joint   \n\n  6th Most Common Venue 7th Most Common Venue 8th Most Common Venue  \\\n0             Pet Store             Gastropub              Pharmacy   \n1        Cosmetics Shop          Skating Rink           Video Store   \n2               Dog Run        Discount Store                 Diner   \n3     Electronics Store            Restaurant         Shopping Mall   \n4           Coffee Shop  Fast Food Restaurant           Gas Station   \n\n                      Neighborhood       Borough   Latitude  Longitude  \n0  Woodbine Gardens, Parkview Hill     East York  43.706397 -79.309937  \n1                 Woodbine Heights     East York  43.695344 -79.318389  \n2                      The Beaches  East Toronto  43.676357 -79.293031  \n3                          Leaside     East York  43.709060 -79.363452  \n4                 Thorncliffe Park     East York  43.705369 -79.349372  "
                    },
                    "execution_count": 22,
                    "metadata": {},
                    "output_type": "execute_result"
                }
            ],
            "source": "# add clustering labels to postcode data\nneighborhoods_venues_sorted.insert(0, 'Cluster Labels', k_means.labels_)\n\n#toronto_merged = toronto_coords\n\n# merge to add latitude/longitude for each postcode\ntoronto_merged = pd.merge(left=neighborhoods_venues_sorted, right=toronto_coords, how='left', on='Postcode')\n\ntoronto_merged.head()"
        },
        {
            "cell_type": "markdown",
            "metadata": {},
            "source": "## Visualise Clusters\nVisualise the resulting clusters on a map."
        },
        {
            "cell_type": "code",
            "execution_count": null,
            "metadata": {
                "scrolled": true
            },
            "outputs": [],
            "source": "# centre map on Toronto\nlatitude = 43.6532\nlongitude = -79.3832\n\n# create map\nmap_clusters = folium.Map(location=[latitude, longitude], zoom_start=12)\n\n# set color scheme for the clusters\nx = np.arange(kclusters)\nys = [i + x + (i*x)**2 for i in range(kclusters)]\ncolors_array = cm.rainbow(np.linspace(0, 1, len(ys)))\nrainbow = [colors.rgb2hex(i) for i in colors_array]\n\n# add markers to the map\nmarkers_colors = []\nfor lat, lon, poi, cluster in zip(toronto_merged['Latitude'], toronto_merged['Longitude'], toronto_merged['Postcode'], toronto_merged['Cluster Labels']):\n    label = folium.Popup(str(poi) + ' Cluster ' + str(cluster), parse_html=True)\n    folium.CircleMarker(\n        [lat, lon],\n        radius=5,\n        popup=label,\n        color=\"gray\",\n        fill=True,\n        fill_color=rainbow[cluster-1],\n        fill_opacity=0.7).add_to(map_clusters)\n       \nmap_clusters"
        },
        {
            "cell_type": "code",
            "execution_count": null,
            "metadata": {},
            "outputs": [],
            "source": ""
        }
    ],
    "metadata": {
        "kernelspec": {
            "display_name": "Python 3.6",
            "language": "python",
            "name": "python3"
        },
        "language_info": {
            "codemirror_mode": {
                "name": "ipython",
                "version": 3
            },
            "file_extension": ".py",
            "mimetype": "text/x-python",
            "name": "python",
            "nbconvert_exporter": "python",
            "pygments_lexer": "ipython3",
            "version": "3.6.9"
        }
    },
    "nbformat": 4,
    "nbformat_minor": 1
}